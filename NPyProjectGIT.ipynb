{
  "nbformat": 4,
  "nbformat_minor": 0,
  "metadata": {
    "colab": {
      "name": "NPyProjectGIT.ipynb",
      "provenance": []
    },
    "kernelspec": {
      "name": "python3",
      "display_name": "Python 3"
    },
    "language_info": {
      "name": "python"
    }
  },
  "cells": [
    {
      "cell_type": "code",
      "execution_count": null,
      "metadata": {
        "id": "p5cq1DgVb66t"
      },
      "outputs": [],
      "source": [
        "import numpy as np #import Numpy"
      ]
    },
    {
      "cell_type": "code",
      "source": [
        "project_data = (\"/content/drive/MyDrive/Colab Notebooks/Data processing /KAG_Conversion_Data.csv\") #identifiable variable/name to set equal to document\n",
        "\n",
        "data = np.genfromtxt(project_data,delimiter=\",\",skip_header=1) # command to genfromtxt the table and show all data relevant minus the header row"
      ],
      "metadata": {
        "id": "B8eTVxTRdAiv"
      },
      "execution_count": null,
      "outputs": []
    },
    {
      "cell_type": "code",
      "source": [
        "data_str = np.genfromtxt(project_data,delimiter=',',skip_header=1,dtype=str) #turns numpy int/float into str\n",
        "data_str"
      ],
      "metadata": {
        "colab": {
          "base_uri": "https://localhost:8080/"
        },
        "id": "W7bPtmdA5nJu",
        "outputId": "09b7b06b-c373-4d61-9a34-c8649e5e0d8b"
      },
      "execution_count": null,
      "outputs": [
        {
          "output_type": "execute_result",
          "data": {
            "text/plain": [
              "array([['708746', '916', '103916', ..., '1.429999948', '2', '1'],\n",
              "       ['708749', '916', '103917', ..., '1.820000023', '2', '0'],\n",
              "       ['708771', '916', '103920', ..., '0', '1', '0'],\n",
              "       ...,\n",
              "       ['1314412', '1178', '179979', ..., '40.28999949', '2', '0'],\n",
              "       ['1314414', '1178', '179981', ..., '198.7100005', '8', '2'],\n",
              "       ['1314415', '1178', '179982', ..., '165.6099987', '5', '2']],\n",
              "      dtype='<U11')"
            ]
          },
          "metadata": {},
          "execution_count": 16
        }
      ]
    },
    {
      "cell_type": "code",
      "source": [
        "print(data) #print array"
      ],
      "metadata": {
        "colab": {
          "base_uri": "https://localhost:8080/"
        },
        "id": "uMNidDL3djzX",
        "outputId": "be4b4e4a-4d17-4ea8-a556-0e4a3f954e5c"
      },
      "execution_count": null,
      "outputs": [
        {
          "output_type": "stream",
          "name": "stdout",
          "text": [
            "[[7.08746000e+05 9.16000000e+02 1.03916000e+05 ... 1.42999995e+00\n",
            "  2.00000000e+00 1.00000000e+00]\n",
            " [7.08749000e+05 9.16000000e+02 1.03917000e+05 ... 1.82000002e+00\n",
            "  2.00000000e+00 0.00000000e+00]\n",
            " [7.08771000e+05 9.16000000e+02 1.03920000e+05 ... 0.00000000e+00\n",
            "  1.00000000e+00 0.00000000e+00]\n",
            " ...\n",
            " [1.31441200e+06 1.17800000e+03 1.79979000e+05 ... 4.02899995e+01\n",
            "  2.00000000e+00 0.00000000e+00]\n",
            " [1.31441400e+06 1.17800000e+03 1.79981000e+05 ... 1.98710001e+02\n",
            "  8.00000000e+00 2.00000000e+00]\n",
            " [1.31441500e+06 1.17800000e+03 1.79982000e+05 ... 1.65609999e+02\n",
            "  5.00000000e+00 2.00000000e+00]]\n"
          ]
        }
      ]
    },
    {
      "cell_type": "code",
      "source": [
        "ad_id = data[:,0]               ''' These assign variable/names to colums of information in the table to help Numpy locate the needed features '''\n",
        "xyzcampaignid = data[:,1]\n",
        "fbcampaignid = data[:,2]\n",
        "age = data[:,3]\n",
        "gender = data[:,4]\n",
        "interest = data[:,5]\n",
        "impressions = data[:,6]\n",
        "clicks = data[:,7]\n",
        "spent = data[:,8]\n",
        "total_conversion = data[:,9]\n",
        "approved_conversion = data[:,10]"
      ],
      "metadata": {
        "id": "r3Ajk3EFhdiu"
      },
      "execution_count": null,
      "outputs": []
    },
    {
      "cell_type": "code",
      "source": [
        "unique_ad = np.unique(xyzcampaignid) #.unique helps factors not repeat in search results\n",
        "unique_ad"
      ],
      "metadata": {
        "colab": {
          "base_uri": "https://localhost:8080/"
        },
        "id": "7AyA8uYI2zbj",
        "outputId": "6aca37ae-9f9f-4835-f2ac-db260726ccc4"
      },
      "execution_count": null,
      "outputs": [
        {
          "output_type": "execute_result",
          "data": {
            "text/plain": [
              "array([ 916.,  936., 1178.])"
            ]
          },
          "metadata": {},
          "execution_count": 12
        }
      ]
    },
    {
      "cell_type": "code",
      "source": [
        "unique_ad, count = np.unique(xyzcampaignid,return_counts=True) #COUNT to get number of ...; Boolean type to return unique results requested\n",
        "print(unique_ad)\n",
        "print(count)"
      ],
      "metadata": {
        "colab": {
          "base_uri": "https://localhost:8080/"
        },
        "id": "JuApMTUx3TiV",
        "outputId": "18336475-3dad-4201-8cad-f8c99a05f229"
      },
      "execution_count": null,
      "outputs": [
        {
          "output_type": "stream",
          "name": "stdout",
          "text": [
            "[ 916.  936. 1178.]\n",
            "[ 54 464 625]\n"
          ]
        }
      ]
    },
    {
      "cell_type": "code",
      "source": [
        "for i in range(len(unique_ad)): # For i will go through each individual record related to the request\n",
        "  print('{} ran {} times'.format(unique_ad[i]) # Ask for output in readable form instead of as an array\n"
      ],
      "metadata": {
        "colab": {
          "base_uri": "https://localhost:8080/"
        },
        "id": "G1iya7fE3uRN",
        "outputId": "c22797aa-db3b-432c-dc37-5cfd5b699b16"
      },
      "execution_count": null,
      "outputs": [
        {
          "output_type": "stream",
          "name": "stdout",
          "text": [
            "916.0 ran 54 times\n",
            "936.0 ran 464 times\n",
            "1178.0 ran 625 times\n"
          ]
        }
      ]
    },
    {
      "cell_type": "code",
      "source": [
        "age = data_str[:,3]\n",
        "age"
      ],
      "metadata": {
        "colab": {
          "base_uri": "https://localhost:8080/"
        },
        "id": "z0pDAeup4VPC",
        "outputId": "29586002-5b82-4353-f0a8-384d5ac2c3f0"
      },
      "execution_count": null,
      "outputs": [
        {
          "output_type": "execute_result",
          "data": {
            "text/plain": [
              "array(['30-34', '30-34', '30-34', ..., '45-49', '45-49', '45-49'],\n",
              "      dtype='<U11')"
            ]
          },
          "metadata": {},
          "execution_count": 17
        }
      ]
    },
    {
      "cell_type": "code",
      "source": [
        "age_group = np.unique(age) # notice the change with np.unique to give one specific result if they're repeats\n",
        "age_group"
      ],
      "metadata": {
        "colab": {
          "base_uri": "https://localhost:8080/"
        },
        "id": "QP6unU2C5iEw",
        "outputId": "1c6cac76-98c3-4317-a00d-586c1781ce3b"
      },
      "execution_count": null,
      "outputs": [
        {
          "output_type": "execute_result",
          "data": {
            "text/plain": [
              "array(['30-34', '35-39', '40-44', '45-49'], dtype='<U11')"
            ]
          },
          "metadata": {},
          "execution_count": 18
        }
      ]
    },
    {
      "cell_type": "code",
      "source": [
        "average_spent = spent.mean() #Average\n",
        "average_spent"
      ],
      "metadata": {
        "colab": {
          "base_uri": "https://localhost:8080/"
        },
        "id": "na5-2yh96aOn",
        "outputId": "54941287-5b76-4105-aaff-e0bd7ded25c3"
      },
      "execution_count": null,
      "outputs": [
        {
          "output_type": "execute_result",
          "data": {
            "text/plain": [
              "51.36065613141295"
            ]
          },
          "metadata": {},
          "execution_count": 21
        }
      ]
    },
    {
      "cell_type": "code",
      "source": [
        "max_spent = spent.max() #Maximum\n",
        "max_spent"
      ],
      "metadata": {
        "colab": {
          "base_uri": "https://localhost:8080/"
        },
        "id": "dBav4KJZ7VO8",
        "outputId": "b34871a9-32f5-45d8-859e-3d06caa54b59"
      },
      "execution_count": null,
      "outputs": [
        {
          "output_type": "execute_result",
          "data": {
            "text/plain": [
              "639.9499981"
            ]
          },
          "metadata": {},
          "execution_count": 22
        }
      ]
    },
    {
      "cell_type": "code",
      "source": [
        "min_spent = spent.min() #Minimum\n",
        "min_spent"
      ],
      "metadata": {
        "colab": {
          "base_uri": "https://localhost:8080/"
        },
        "id": "MCTeBfE77fwm",
        "outputId": "2c12b57e-b444-42e0-843c-419175d6a08e"
      },
      "execution_count": null,
      "outputs": [
        {
          "output_type": "execute_result",
          "data": {
            "text/plain": [
              "0.0"
            ]
          },
          "metadata": {},
          "execution_count": 23
        }
      ]
    },
    {
      "cell_type": "code",
      "source": [
        "max_clicks = clicks.max() #Clicks\n",
        "max_clicks"
      ],
      "metadata": {
        "colab": {
          "base_uri": "https://localhost:8080/"
        },
        "id": "vU9pT9na7m5z",
        "outputId": "bb194879-571d-467d-ad21-0165eba48b8a"
      },
      "execution_count": null,
      "outputs": [
        {
          "output_type": "execute_result",
          "data": {
            "text/plain": [
              "421.0"
            ]
          },
          "metadata": {},
          "execution_count": 24
        }
      ]
    },
    {
      "cell_type": "code",
      "source": [
        "ad_id[clicks == max_clicks] #Particular ID with requested info(maximum clicks);Notice use of square brackets and no space"
      ],
      "metadata": {
        "colab": {
          "base_uri": "https://localhost:8080/"
        },
        "id": "k4u4aC5x8QiB",
        "outputId": "9f772002-4538-45aa-e5bc-f4f99deeb26c"
      },
      "execution_count": null,
      "outputs": [
        {
          "output_type": "execute_result",
          "data": {
            "text/plain": [
              "array([1121814.])"
            ]
          },
          "metadata": {},
          "execution_count": 26
        }
      ]
    },
    {
      "cell_type": "code",
      "source": [
        "approved_conversion[clicks == max_clicks] #uses the clicks and approved conversion columns to determine how many people purchased after viewing\n"
      ],
      "metadata": {
        "colab": {
          "base_uri": "https://localhost:8080/"
        },
        "id": "ISRguke38fE9",
        "outputId": "7dba8a79-e70c-4580-99b1-dd83f9e2f5ec"
      },
      "execution_count": null,
      "outputs": [
        {
          "output_type": "execute_result",
          "data": {
            "text/plain": [
              "array([13.])"
            ]
          },
          "metadata": {},
          "execution_count": 27
        }
      ]
    },
    {
      "cell_type": "code",
      "source": [
        "max_purchase = approved_conversion.max() #Maximum number of purchases in the database\n",
        "print(max_purchase)"
      ],
      "metadata": {
        "colab": {
          "base_uri": "https://localhost:8080/"
        },
        "id": "U9S_VR0D9lfZ",
        "outputId": "8a674e65-5ab7-4349-8725-808db9a117bc"
      },
      "execution_count": null,
      "outputs": [
        {
          "output_type": "stream",
          "name": "stdout",
          "text": [
            "21.0\n"
          ]
        }
      ]
    },
    {
      "cell_type": "code",
      "source": [
        "data_str[approved_conversion == max_purchase] #Array represents one complete row of information for one product with the most purchases"
      ],
      "metadata": {
        "colab": {
          "base_uri": "https://localhost:8080/"
        },
        "id": "r_fkPYmM-El-",
        "outputId": "c6e004c0-0781-448c-be94-7bde19728ad3"
      },
      "execution_count": null,
      "outputs": [
        {
          "output_type": "execute_result",
          "data": {
            "text/plain": [
              "array([['1121104', '1178', '144533', '30-34', 'M', '16', '2080666',\n",
              "        '202', '360.1500015', '40', '21']], dtype='<U11')"
            ]
          },
          "metadata": {},
          "execution_count": 32
        }
      ]
    }
  ]
}